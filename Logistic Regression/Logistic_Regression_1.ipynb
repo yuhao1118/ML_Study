{
 "cells": [
  {
   "cell_type": "markdown",
   "metadata": {
    "colab_type": "text",
    "id": "P5gj23PJcWZj"
   },
   "source": [
    "# Import libraries"
   ]
  },
  {
   "cell_type": "code",
   "execution_count": 0,
   "metadata": {
    "colab": {},
    "colab_type": "code",
    "id": "UlqobXpBcBFi"
   },
   "outputs": [],
   "source": [
    "import numpy as np\n",
    "import matplotlib.pyplot as plt\n",
    "import pandas as pd"
   ]
  },
  {
   "cell_type": "markdown",
   "metadata": {
    "colab_type": "text",
    "id": "bFIBHPUTcguE"
   },
   "source": [
    "# Import dataset"
   ]
  },
  {
   "cell_type": "code",
   "execution_count": 0,
   "metadata": {
    "colab": {
     "base_uri": "https://localhost:8080/",
     "height": 419
    },
    "colab_type": "code",
    "id": "H8OKXaagckPi",
    "outputId": "94f286b2-e7fa-4289-9e95-384811f54d5f"
   },
   "outputs": [
    {
     "data": {
      "text/html": [
       "<div>\n",
       "<style scoped>\n",
       "    .dataframe tbody tr th:only-of-type {\n",
       "        vertical-align: middle;\n",
       "    }\n",
       "\n",
       "    .dataframe tbody tr th {\n",
       "        vertical-align: top;\n",
       "    }\n",
       "\n",
       "    .dataframe thead th {\n",
       "        text-align: right;\n",
       "    }\n",
       "</style>\n",
       "<table border=\"1\" class=\"dataframe\">\n",
       "  <thead>\n",
       "    <tr style=\"text-align: right;\">\n",
       "      <th></th>\n",
       "      <th>User ID</th>\n",
       "      <th>Gender</th>\n",
       "      <th>Age</th>\n",
       "      <th>EstimatedSalary</th>\n",
       "      <th>Purchased</th>\n",
       "    </tr>\n",
       "  </thead>\n",
       "  <tbody>\n",
       "    <tr>\n",
       "      <th>0</th>\n",
       "      <td>15624510</td>\n",
       "      <td>Male</td>\n",
       "      <td>19</td>\n",
       "      <td>19000</td>\n",
       "      <td>0</td>\n",
       "    </tr>\n",
       "    <tr>\n",
       "      <th>1</th>\n",
       "      <td>15810944</td>\n",
       "      <td>Male</td>\n",
       "      <td>35</td>\n",
       "      <td>20000</td>\n",
       "      <td>0</td>\n",
       "    </tr>\n",
       "    <tr>\n",
       "      <th>2</th>\n",
       "      <td>15668575</td>\n",
       "      <td>Female</td>\n",
       "      <td>26</td>\n",
       "      <td>43000</td>\n",
       "      <td>0</td>\n",
       "    </tr>\n",
       "    <tr>\n",
       "      <th>3</th>\n",
       "      <td>15603246</td>\n",
       "      <td>Female</td>\n",
       "      <td>27</td>\n",
       "      <td>57000</td>\n",
       "      <td>0</td>\n",
       "    </tr>\n",
       "    <tr>\n",
       "      <th>4</th>\n",
       "      <td>15804002</td>\n",
       "      <td>Male</td>\n",
       "      <td>19</td>\n",
       "      <td>76000</td>\n",
       "      <td>0</td>\n",
       "    </tr>\n",
       "    <tr>\n",
       "      <th>...</th>\n",
       "      <td>...</td>\n",
       "      <td>...</td>\n",
       "      <td>...</td>\n",
       "      <td>...</td>\n",
       "      <td>...</td>\n",
       "    </tr>\n",
       "    <tr>\n",
       "      <th>395</th>\n",
       "      <td>15691863</td>\n",
       "      <td>Female</td>\n",
       "      <td>46</td>\n",
       "      <td>41000</td>\n",
       "      <td>1</td>\n",
       "    </tr>\n",
       "    <tr>\n",
       "      <th>396</th>\n",
       "      <td>15706071</td>\n",
       "      <td>Male</td>\n",
       "      <td>51</td>\n",
       "      <td>23000</td>\n",
       "      <td>1</td>\n",
       "    </tr>\n",
       "    <tr>\n",
       "      <th>397</th>\n",
       "      <td>15654296</td>\n",
       "      <td>Female</td>\n",
       "      <td>50</td>\n",
       "      <td>20000</td>\n",
       "      <td>1</td>\n",
       "    </tr>\n",
       "    <tr>\n",
       "      <th>398</th>\n",
       "      <td>15755018</td>\n",
       "      <td>Male</td>\n",
       "      <td>36</td>\n",
       "      <td>33000</td>\n",
       "      <td>0</td>\n",
       "    </tr>\n",
       "    <tr>\n",
       "      <th>399</th>\n",
       "      <td>15594041</td>\n",
       "      <td>Female</td>\n",
       "      <td>49</td>\n",
       "      <td>36000</td>\n",
       "      <td>1</td>\n",
       "    </tr>\n",
       "  </tbody>\n",
       "</table>\n",
       "<p>400 rows × 5 columns</p>\n",
       "</div>"
      ],
      "text/plain": [
       "      User ID  Gender  Age  EstimatedSalary  Purchased\n",
       "0    15624510    Male   19            19000          0\n",
       "1    15810944    Male   35            20000          0\n",
       "2    15668575  Female   26            43000          0\n",
       "3    15603246  Female   27            57000          0\n",
       "4    15804002    Male   19            76000          0\n",
       "..        ...     ...  ...              ...        ...\n",
       "395  15691863  Female   46            41000          1\n",
       "396  15706071    Male   51            23000          1\n",
       "397  15654296  Female   50            20000          1\n",
       "398  15755018    Male   36            33000          0\n",
       "399  15594041  Female   49            36000          1\n",
       "\n",
       "[400 rows x 5 columns]"
      ]
     },
     "execution_count": 4,
     "metadata": {
      "tags": []
     },
     "output_type": "execute_result"
    }
   ],
   "source": [
    "dataset = pd.read_csv('https://raw.githubusercontent.com/Avik-Jain/100-Days-Of-ML-Code/master/datasets/Social_Network_Ads.csv')\n",
    "dataset"
   ]
  },
  {
   "cell_type": "code",
   "execution_count": 0,
   "metadata": {
    "colab": {
     "base_uri": "https://localhost:8080/",
     "height": 1000
    },
    "colab_type": "code",
    "id": "cSJOcyPQcseL",
    "outputId": "48940fe6-5818-4d15-fdcb-e2bd52acb6b7"
   },
   "outputs": [
    {
     "data": {
      "text/plain": [
       "(array([[    19,  19000],\n",
       "        [    35,  20000],\n",
       "        [    26,  43000],\n",
       "        [    27,  57000],\n",
       "        [    19,  76000],\n",
       "        [    27,  58000],\n",
       "        [    27,  84000],\n",
       "        [    32, 150000],\n",
       "        [    25,  33000],\n",
       "        [    35,  65000],\n",
       "        [    26,  80000],\n",
       "        [    26,  52000],\n",
       "        [    20,  86000],\n",
       "        [    32,  18000],\n",
       "        [    18,  82000],\n",
       "        [    29,  80000],\n",
       "        [    47,  25000],\n",
       "        [    45,  26000],\n",
       "        [    46,  28000],\n",
       "        [    48,  29000],\n",
       "        [    45,  22000],\n",
       "        [    47,  49000],\n",
       "        [    48,  41000],\n",
       "        [    45,  22000],\n",
       "        [    46,  23000],\n",
       "        [    47,  20000],\n",
       "        [    49,  28000],\n",
       "        [    47,  30000],\n",
       "        [    29,  43000],\n",
       "        [    31,  18000],\n",
       "        [    31,  74000],\n",
       "        [    27, 137000],\n",
       "        [    21,  16000],\n",
       "        [    28,  44000],\n",
       "        [    27,  90000],\n",
       "        [    35,  27000],\n",
       "        [    33,  28000],\n",
       "        [    30,  49000],\n",
       "        [    26,  72000],\n",
       "        [    27,  31000],\n",
       "        [    27,  17000],\n",
       "        [    33,  51000],\n",
       "        [    35, 108000],\n",
       "        [    30,  15000],\n",
       "        [    28,  84000],\n",
       "        [    23,  20000],\n",
       "        [    25,  79000],\n",
       "        [    27,  54000],\n",
       "        [    30, 135000],\n",
       "        [    31,  89000],\n",
       "        [    24,  32000],\n",
       "        [    18,  44000],\n",
       "        [    29,  83000],\n",
       "        [    35,  23000],\n",
       "        [    27,  58000],\n",
       "        [    24,  55000],\n",
       "        [    23,  48000],\n",
       "        [    28,  79000],\n",
       "        [    22,  18000],\n",
       "        [    32, 117000],\n",
       "        [    27,  20000],\n",
       "        [    25,  87000],\n",
       "        [    23,  66000],\n",
       "        [    32, 120000],\n",
       "        [    59,  83000],\n",
       "        [    24,  58000],\n",
       "        [    24,  19000],\n",
       "        [    23,  82000],\n",
       "        [    22,  63000],\n",
       "        [    31,  68000],\n",
       "        [    25,  80000],\n",
       "        [    24,  27000],\n",
       "        [    20,  23000],\n",
       "        [    33, 113000],\n",
       "        [    32,  18000],\n",
       "        [    34, 112000],\n",
       "        [    18,  52000],\n",
       "        [    22,  27000],\n",
       "        [    28,  87000],\n",
       "        [    26,  17000],\n",
       "        [    30,  80000],\n",
       "        [    39,  42000],\n",
       "        [    20,  49000],\n",
       "        [    35,  88000],\n",
       "        [    30,  62000],\n",
       "        [    31, 118000],\n",
       "        [    24,  55000],\n",
       "        [    28,  85000],\n",
       "        [    26,  81000],\n",
       "        [    35,  50000],\n",
       "        [    22,  81000],\n",
       "        [    30, 116000],\n",
       "        [    26,  15000],\n",
       "        [    29,  28000],\n",
       "        [    29,  83000],\n",
       "        [    35,  44000],\n",
       "        [    35,  25000],\n",
       "        [    28, 123000],\n",
       "        [    35,  73000],\n",
       "        [    28,  37000],\n",
       "        [    27,  88000],\n",
       "        [    28,  59000],\n",
       "        [    32,  86000],\n",
       "        [    33, 149000],\n",
       "        [    19,  21000],\n",
       "        [    21,  72000],\n",
       "        [    26,  35000],\n",
       "        [    27,  89000],\n",
       "        [    26,  86000],\n",
       "        [    38,  80000],\n",
       "        [    39,  71000],\n",
       "        [    37,  71000],\n",
       "        [    38,  61000],\n",
       "        [    37,  55000],\n",
       "        [    42,  80000],\n",
       "        [    40,  57000],\n",
       "        [    35,  75000],\n",
       "        [    36,  52000],\n",
       "        [    40,  59000],\n",
       "        [    41,  59000],\n",
       "        [    36,  75000],\n",
       "        [    37,  72000],\n",
       "        [    40,  75000],\n",
       "        [    35,  53000],\n",
       "        [    41,  51000],\n",
       "        [    39,  61000],\n",
       "        [    42,  65000],\n",
       "        [    26,  32000],\n",
       "        [    30,  17000],\n",
       "        [    26,  84000],\n",
       "        [    31,  58000],\n",
       "        [    33,  31000],\n",
       "        [    30,  87000],\n",
       "        [    21,  68000],\n",
       "        [    28,  55000],\n",
       "        [    23,  63000],\n",
       "        [    20,  82000],\n",
       "        [    30, 107000],\n",
       "        [    28,  59000],\n",
       "        [    19,  25000],\n",
       "        [    19,  85000],\n",
       "        [    18,  68000],\n",
       "        [    35,  59000],\n",
       "        [    30,  89000],\n",
       "        [    34,  25000],\n",
       "        [    24,  89000],\n",
       "        [    27,  96000],\n",
       "        [    41,  30000],\n",
       "        [    29,  61000],\n",
       "        [    20,  74000],\n",
       "        [    26,  15000],\n",
       "        [    41,  45000],\n",
       "        [    31,  76000],\n",
       "        [    36,  50000],\n",
       "        [    40,  47000],\n",
       "        [    31,  15000],\n",
       "        [    46,  59000],\n",
       "        [    29,  75000],\n",
       "        [    26,  30000],\n",
       "        [    32, 135000],\n",
       "        [    32, 100000],\n",
       "        [    25,  90000],\n",
       "        [    37,  33000],\n",
       "        [    35,  38000],\n",
       "        [    33,  69000],\n",
       "        [    18,  86000],\n",
       "        [    22,  55000],\n",
       "        [    35,  71000],\n",
       "        [    29, 148000],\n",
       "        [    29,  47000],\n",
       "        [    21,  88000],\n",
       "        [    34, 115000],\n",
       "        [    26, 118000],\n",
       "        [    34,  43000],\n",
       "        [    34,  72000],\n",
       "        [    23,  28000],\n",
       "        [    35,  47000],\n",
       "        [    25,  22000],\n",
       "        [    24,  23000],\n",
       "        [    31,  34000],\n",
       "        [    26,  16000],\n",
       "        [    31,  71000],\n",
       "        [    32, 117000],\n",
       "        [    33,  43000],\n",
       "        [    33,  60000],\n",
       "        [    31,  66000],\n",
       "        [    20,  82000],\n",
       "        [    33,  41000],\n",
       "        [    35,  72000],\n",
       "        [    28,  32000],\n",
       "        [    24,  84000],\n",
       "        [    19,  26000],\n",
       "        [    29,  43000],\n",
       "        [    19,  70000],\n",
       "        [    28,  89000],\n",
       "        [    34,  43000],\n",
       "        [    30,  79000],\n",
       "        [    20,  36000],\n",
       "        [    26,  80000],\n",
       "        [    35,  22000],\n",
       "        [    35,  39000],\n",
       "        [    49,  74000],\n",
       "        [    39, 134000],\n",
       "        [    41,  71000],\n",
       "        [    58, 101000],\n",
       "        [    47,  47000],\n",
       "        [    55, 130000],\n",
       "        [    52, 114000],\n",
       "        [    40, 142000],\n",
       "        [    46,  22000],\n",
       "        [    48,  96000],\n",
       "        [    52, 150000],\n",
       "        [    59,  42000],\n",
       "        [    35,  58000],\n",
       "        [    47,  43000],\n",
       "        [    60, 108000],\n",
       "        [    49,  65000],\n",
       "        [    40,  78000],\n",
       "        [    46,  96000],\n",
       "        [    59, 143000],\n",
       "        [    41,  80000],\n",
       "        [    35,  91000],\n",
       "        [    37, 144000],\n",
       "        [    60, 102000],\n",
       "        [    35,  60000],\n",
       "        [    37,  53000],\n",
       "        [    36, 126000],\n",
       "        [    56, 133000],\n",
       "        [    40,  72000],\n",
       "        [    42,  80000],\n",
       "        [    35, 147000],\n",
       "        [    39,  42000],\n",
       "        [    40, 107000],\n",
       "        [    49,  86000],\n",
       "        [    38, 112000],\n",
       "        [    46,  79000],\n",
       "        [    40,  57000],\n",
       "        [    37,  80000],\n",
       "        [    46,  82000],\n",
       "        [    53, 143000],\n",
       "        [    42, 149000],\n",
       "        [    38,  59000],\n",
       "        [    50,  88000],\n",
       "        [    56, 104000],\n",
       "        [    41,  72000],\n",
       "        [    51, 146000],\n",
       "        [    35,  50000],\n",
       "        [    57, 122000],\n",
       "        [    41,  52000],\n",
       "        [    35,  97000],\n",
       "        [    44,  39000],\n",
       "        [    37,  52000],\n",
       "        [    48, 134000],\n",
       "        [    37, 146000],\n",
       "        [    50,  44000],\n",
       "        [    52,  90000],\n",
       "        [    41,  72000],\n",
       "        [    40,  57000],\n",
       "        [    58,  95000],\n",
       "        [    45, 131000],\n",
       "        [    35,  77000],\n",
       "        [    36, 144000],\n",
       "        [    55, 125000],\n",
       "        [    35,  72000],\n",
       "        [    48,  90000],\n",
       "        [    42, 108000],\n",
       "        [    40,  75000],\n",
       "        [    37,  74000],\n",
       "        [    47, 144000],\n",
       "        [    40,  61000],\n",
       "        [    43, 133000],\n",
       "        [    59,  76000],\n",
       "        [    60,  42000],\n",
       "        [    39, 106000],\n",
       "        [    57,  26000],\n",
       "        [    57,  74000],\n",
       "        [    38,  71000],\n",
       "        [    49,  88000],\n",
       "        [    52,  38000],\n",
       "        [    50,  36000],\n",
       "        [    59,  88000],\n",
       "        [    35,  61000],\n",
       "        [    37,  70000],\n",
       "        [    52,  21000],\n",
       "        [    48, 141000],\n",
       "        [    37,  93000],\n",
       "        [    37,  62000],\n",
       "        [    48, 138000],\n",
       "        [    41,  79000],\n",
       "        [    37,  78000],\n",
       "        [    39, 134000],\n",
       "        [    49,  89000],\n",
       "        [    55,  39000],\n",
       "        [    37,  77000],\n",
       "        [    35,  57000],\n",
       "        [    36,  63000],\n",
       "        [    42,  73000],\n",
       "        [    43, 112000],\n",
       "        [    45,  79000],\n",
       "        [    46, 117000],\n",
       "        [    58,  38000],\n",
       "        [    48,  74000],\n",
       "        [    37, 137000],\n",
       "        [    37,  79000],\n",
       "        [    40,  60000],\n",
       "        [    42,  54000],\n",
       "        [    51, 134000],\n",
       "        [    47, 113000],\n",
       "        [    36, 125000],\n",
       "        [    38,  50000],\n",
       "        [    42,  70000],\n",
       "        [    39,  96000],\n",
       "        [    38,  50000],\n",
       "        [    49, 141000],\n",
       "        [    39,  79000],\n",
       "        [    39,  75000],\n",
       "        [    54, 104000],\n",
       "        [    35,  55000],\n",
       "        [    45,  32000],\n",
       "        [    36,  60000],\n",
       "        [    52, 138000],\n",
       "        [    53,  82000],\n",
       "        [    41,  52000],\n",
       "        [    48,  30000],\n",
       "        [    48, 131000],\n",
       "        [    41,  60000],\n",
       "        [    41,  72000],\n",
       "        [    42,  75000],\n",
       "        [    36, 118000],\n",
       "        [    47, 107000],\n",
       "        [    38,  51000],\n",
       "        [    48, 119000],\n",
       "        [    42,  65000],\n",
       "        [    40,  65000],\n",
       "        [    57,  60000],\n",
       "        [    36,  54000],\n",
       "        [    58, 144000],\n",
       "        [    35,  79000],\n",
       "        [    38,  55000],\n",
       "        [    39, 122000],\n",
       "        [    53, 104000],\n",
       "        [    35,  75000],\n",
       "        [    38,  65000],\n",
       "        [    47,  51000],\n",
       "        [    47, 105000],\n",
       "        [    41,  63000],\n",
       "        [    53,  72000],\n",
       "        [    54, 108000],\n",
       "        [    39,  77000],\n",
       "        [    38,  61000],\n",
       "        [    38, 113000],\n",
       "        [    37,  75000],\n",
       "        [    42,  90000],\n",
       "        [    37,  57000],\n",
       "        [    36,  99000],\n",
       "        [    60,  34000],\n",
       "        [    54,  70000],\n",
       "        [    41,  72000],\n",
       "        [    40,  71000],\n",
       "        [    42,  54000],\n",
       "        [    43, 129000],\n",
       "        [    53,  34000],\n",
       "        [    47,  50000],\n",
       "        [    42,  79000],\n",
       "        [    42, 104000],\n",
       "        [    59,  29000],\n",
       "        [    58,  47000],\n",
       "        [    46,  88000],\n",
       "        [    38,  71000],\n",
       "        [    54,  26000],\n",
       "        [    60,  46000],\n",
       "        [    60,  83000],\n",
       "        [    39,  73000],\n",
       "        [    59, 130000],\n",
       "        [    37,  80000],\n",
       "        [    46,  32000],\n",
       "        [    46,  74000],\n",
       "        [    42,  53000],\n",
       "        [    41,  87000],\n",
       "        [    58,  23000],\n",
       "        [    42,  64000],\n",
       "        [    48,  33000],\n",
       "        [    44, 139000],\n",
       "        [    49,  28000],\n",
       "        [    57,  33000],\n",
       "        [    56,  60000],\n",
       "        [    49,  39000],\n",
       "        [    39,  71000],\n",
       "        [    47,  34000],\n",
       "        [    48,  35000],\n",
       "        [    48,  33000],\n",
       "        [    47,  23000],\n",
       "        [    45,  45000],\n",
       "        [    60,  42000],\n",
       "        [    39,  59000],\n",
       "        [    46,  41000],\n",
       "        [    51,  23000],\n",
       "        [    50,  20000],\n",
       "        [    36,  33000],\n",
       "        [    49,  36000]]),\n",
       " array([0, 0, 0, 0, 0, 0, 0, 1, 0, 0, 0, 0, 0, 0, 0, 0, 1, 1, 1, 1, 1, 1,\n",
       "        1, 1, 1, 1, 1, 1, 0, 0, 0, 1, 0, 0, 0, 0, 0, 0, 0, 0, 0, 0, 0, 0,\n",
       "        0, 0, 0, 0, 1, 0, 0, 0, 0, 0, 0, 0, 0, 0, 0, 0, 0, 0, 0, 1, 0, 0,\n",
       "        0, 0, 0, 0, 0, 0, 0, 0, 0, 1, 0, 0, 0, 0, 0, 0, 0, 0, 0, 1, 0, 0,\n",
       "        0, 0, 0, 0, 0, 0, 0, 0, 0, 1, 0, 0, 0, 0, 0, 1, 0, 0, 0, 0, 0, 0,\n",
       "        0, 0, 0, 0, 0, 0, 0, 0, 0, 0, 0, 0, 0, 0, 0, 0, 0, 0, 0, 0, 0, 0,\n",
       "        0, 0, 0, 0, 0, 1, 0, 0, 0, 0, 0, 0, 0, 0, 1, 0, 0, 0, 0, 0, 0, 0,\n",
       "        0, 0, 0, 0, 0, 1, 1, 0, 0, 0, 0, 0, 0, 0, 1, 0, 0, 0, 0, 0, 0, 0,\n",
       "        0, 0, 0, 0, 0, 0, 1, 0, 0, 0, 0, 0, 0, 0, 0, 0, 0, 0, 0, 0, 0, 0,\n",
       "        0, 0, 0, 0, 1, 0, 1, 0, 1, 0, 1, 0, 1, 1, 0, 0, 0, 1, 0, 0, 0, 1,\n",
       "        0, 1, 1, 1, 0, 0, 1, 1, 0, 1, 1, 0, 1, 1, 0, 1, 0, 0, 0, 1, 1, 0,\n",
       "        1, 1, 0, 1, 0, 1, 0, 1, 0, 0, 1, 1, 0, 1, 0, 0, 1, 1, 0, 1, 1, 0,\n",
       "        1, 1, 0, 0, 1, 0, 0, 1, 1, 1, 1, 1, 0, 1, 1, 1, 1, 0, 1, 1, 0, 1,\n",
       "        0, 1, 0, 1, 1, 1, 1, 0, 0, 0, 1, 1, 0, 1, 1, 1, 1, 1, 0, 0, 0, 1,\n",
       "        1, 0, 0, 1, 0, 1, 0, 1, 1, 0, 1, 0, 1, 1, 0, 1, 1, 0, 0, 0, 1, 1,\n",
       "        0, 1, 0, 0, 1, 0, 1, 0, 0, 1, 1, 0, 0, 1, 1, 0, 1, 1, 0, 0, 1, 0,\n",
       "        1, 0, 1, 1, 1, 0, 1, 0, 1, 1, 1, 0, 1, 1, 1, 1, 0, 1, 1, 1, 0, 1,\n",
       "        0, 1, 0, 0, 1, 1, 0, 1, 1, 1, 1, 1, 1, 0, 1, 1, 1, 1, 1, 1, 0, 1,\n",
       "        1, 1, 0, 1]))"
      ]
     },
     "execution_count": 6,
     "metadata": {
      "tags": []
     },
     "output_type": "execute_result"
    }
   ],
   "source": [
    "X = dataset.iloc[:, [2,3]].values\n",
    "y = dataset.iloc[:, 4].values\n",
    "X,y"
   ]
  },
  {
   "cell_type": "markdown",
   "metadata": {
    "colab_type": "text",
    "id": "lSt7HaZMiD6k"
   },
   "source": [
    "# Split dataset"
   ]
  },
  {
   "cell_type": "code",
   "execution_count": 0,
   "metadata": {
    "colab": {},
    "colab_type": "code",
    "id": "e0jgeXV1efBt"
   },
   "outputs": [],
   "source": [
    "from sklearn.model_selection import train_test_split\n",
    "X_train, X_test, y_train, y_test = train_test_split(X, y, test_size = 1/4, random_state = 0) "
   ]
  },
  {
   "cell_type": "markdown",
   "metadata": {
    "colab_type": "text",
    "id": "mE1zHy-PiJOT"
   },
   "source": [
    "# Standardization the dataset(X)\n",
    "X_train need to fit first to find the mean and standard deviation and then transforming it. As the mean and the standard deviation have already be founded and stored in **sc**, it is only needed to transform the test set."
   ]
  },
  {
   "cell_type": "code",
   "execution_count": 0,
   "metadata": {
    "colab": {},
    "colab_type": "code",
    "id": "aZrg3AZFevLN"
   },
   "outputs": [],
   "source": [
    "from sklearn.preprocessing import StandardScaler\n",
    "sc = StandardScaler()\n",
    "X_train = sc.fit_transform(X_train)\n",
    "X_test = sc.transform(X_test)"
   ]
  },
  {
   "cell_type": "code",
   "execution_count": 0,
   "metadata": {
    "colab": {
     "base_uri": "https://localhost:8080/",
     "height": 102
    },
    "colab_type": "code",
    "id": "xTZQHJWfeGXF",
    "outputId": "1bbf21d9-09ea-4e17-8d5f-7a71a79c2f6a"
   },
   "outputs": [
    {
     "data": {
      "text/plain": [
       "LogisticRegression(C=1.0, class_weight=None, dual=False, fit_intercept=True,\n",
       "                   intercept_scaling=1, l1_ratio=None, max_iter=100,\n",
       "                   multi_class='auto', n_jobs=None, penalty='l2',\n",
       "                   random_state=None, solver='lbfgs', tol=0.0001, verbose=0,\n",
       "                   warm_start=False)"
      ]
     },
     "execution_count": 10,
     "metadata": {
      "tags": []
     },
     "output_type": "execute_result"
    }
   ],
   "source": [
    "from sklearn.linear_model import LogisticRegression\n",
    "classifier = LogisticRegression()\n",
    "classifier.fit(X_train, y_train)"
   ]
  },
  {
   "cell_type": "code",
   "execution_count": 0,
   "metadata": {
    "colab": {},
    "colab_type": "code",
    "id": "_xPQCTjteb0z"
   },
   "outputs": [],
   "source": [
    "y_pred = classifier.predict(X_test)"
   ]
  },
  {
   "cell_type": "markdown",
   "metadata": {
    "colab_type": "text",
    "id": "KXtnEclzi9x6"
   },
   "source": [
    "# Make the confusion matrix\n",
    "Let $i$ is the actual label and $j$ is the predict label, $M_{ij}$ is the value of how many samples with actual label $i$ are classified into predict label $j$. "
   ]
  },
  {
   "cell_type": "code",
   "execution_count": 0,
   "metadata": {
    "colab": {},
    "colab_type": "code",
    "id": "7BmJqPyFfFSc"
   },
   "outputs": [],
   "source": [
    "from sklearn.metrics import confusion_matrix\n",
    "cm = confusion_matrix(y_test, y_pred)"
   ]
  },
  {
   "cell_type": "code",
   "execution_count": 0,
   "metadata": {
    "colab": {
     "base_uri": "https://localhost:8080/",
     "height": 51
    },
    "colab_type": "code",
    "id": "2KefIcrcfQhb",
    "outputId": "2858ae51-8510-4c89-8b60-0aef78e81ac2"
   },
   "outputs": [
    {
     "data": {
      "text/plain": [
       "array([[65,  3],\n",
       "       [ 8, 24]])"
      ]
     },
     "execution_count": 13,
     "metadata": {
      "tags": []
     },
     "output_type": "execute_result"
    }
   ],
   "source": [
    "cm"
   ]
  },
  {
   "cell_type": "code",
   "execution_count": 0,
   "metadata": {
    "colab": {
     "base_uri": "https://localhost:8080/",
     "height": 102
    },
    "colab_type": "code",
    "id": "r0jvtMu_fk8i",
    "outputId": "1475967c-770c-4409-a39e-72bbcd918eac"
   },
   "outputs": [
    {
     "data": {
      "text/plain": [
       "array([0, 0, 0, 0, 0, 0, 0, 1, 0, 1, 0, 0, 0, 0, 0, 0, 0, 0, 1, 0, 0, 1,\n",
       "       0, 1, 0, 1, 0, 0, 0, 0, 0, 0, 1, 0, 0, 0, 0, 0, 0, 1, 0, 0, 0, 0,\n",
       "       1, 0, 0, 1, 0, 1, 1, 0, 0, 0, 1, 0, 0, 0, 0, 0, 0, 1, 0, 0, 0, 1,\n",
       "       0, 0, 0, 0, 1, 0, 0, 0, 0, 0, 1, 0, 1, 1, 1, 1, 0, 0, 1, 1, 0, 1,\n",
       "       0, 0, 0, 1, 0, 0, 0, 0, 0, 0, 1, 1])"
      ]
     },
     "execution_count": 14,
     "metadata": {
      "tags": []
     },
     "output_type": "execute_result"
    }
   ],
   "source": [
    "y_pred"
   ]
  },
  {
   "cell_type": "code",
   "execution_count": 0,
   "metadata": {
    "colab": {},
    "colab_type": "code",
    "id": "ojexQZpHfqzq"
   },
   "outputs": [],
   "source": [
    "score = classifier.score(X_test, y_test)"
   ]
  },
  {
   "cell_type": "code",
   "execution_count": 0,
   "metadata": {
    "colab": {
     "base_uri": "https://localhost:8080/",
     "height": 520
    },
    "colab_type": "code",
    "id": "XQF9MnXKgnU7",
    "outputId": "c265cf13-1993-4cee-c804-334e5ca94999"
   },
   "outputs": [
    {
     "data": {
      "image/png": "[encoded data removed]",
      "text/plain": [
       "<Figure size 648x648 with 2 Axes>"
      ]
     },
     "metadata": {
      "tags": []
     },
     "output_type": "display_data"
    }
   ],
   "source": [
    "import seaborn as sns\n",
    "plt.figure(figsize=(9,9))\n",
    "sns.heatmap(cm, annot=True, fmt=\".3f\", linewidths=.5, square = True, cmap = 'Blues_r')\n",
    "plt.ylabel('Actual label');\n",
    "plt.xlabel('Predicted label');\n",
    "all_sample_title = 'Accuracy Score: {0}'.format(score)\n",
    "plt.title(all_sample_title, size = 15);"
   ]
  },
  {
   "cell_type": "code",
   "execution_count": 0,
   "metadata": {
    "colab": {},
    "colab_type": "code",
    "id": "cRoPt7Rmg54C"
   },
   "outputs": [],
   "source": []
  }
 ],
 "metadata": {
  "colab": {
   "name": "Logistic Regression 1.ipynb",
   "provenance": []
  },
  "kernelspec": {
   "display_name": "Python 3",
   "language": "python",
   "name": "python3"
  },
  "language_info": {
   "codemirror_mode": {
    "name": "ipython",
    "version": 3
   },
   "file_extension": ".py",
   "mimetype": "text/x-python",
   "name": "python",
   "nbconvert_exporter": "python",
   "pygments_lexer": "ipython3",
   "version": "3.7.3"
  }
 },
 "nbformat": 4,
 "nbformat_minor": 1
}
