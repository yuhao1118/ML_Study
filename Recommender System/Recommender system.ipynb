{
 "cells": [
  {
   "cell_type": "markdown",
   "metadata": {},
   "source": [
    "# Recommender System"
   ]
  },
  {
   "cell_type": "code",
   "execution_count": 1,
   "metadata": {},
   "outputs": [],
   "source": [
    "import numpy as np\n",
    "import scipy.io as sio\n",
    "import matplotlib.pyplot as plt"
   ]
  },
  {
   "cell_type": "markdown",
   "metadata": {},
   "source": [
    "# Import datasets\n",
    "- $X$: $num_{movies}$ (1682)  $\\times$ $num_{features}$ (10) matrix of **movie features.**\n",
    "- $\\Theta$: $num_{users}$ (943)  $\\times$ $num_{features}$ (10) matrix of **user features.**\n",
    "- $Y$ : $num_{movies}$ $\\times$ $num_{users}$ matrix of user ratings of movies  .\n",
    "- $R$ : $num_{movies}$ $\\times$ $num_{users}$ matrix, where $R(i, j) = 1$ if the $i^{th}$ movie was rated by the $j^{th}$ user."
   ]
  },
  {
   "cell_type": "code",
   "execution_count": 2,
   "metadata": {},
   "outputs": [
    {
     "data": {
      "text/plain": [
       "((1682, 10), (943, 10), (1682, 943), (1682, 943))"
      ]
     },
     "execution_count": 2,
     "metadata": {},
     "output_type": "execute_result"
    }
   ],
   "source": [
    "movies_mat = sio.loadmat(\"./ex8_movies.mat\")\n",
    "params_mat = sio.loadmat(\"./ex8_movieParams.mat\")\n",
    "\n",
    "X, Theta = params_mat[\"X\"], params_mat[\"Theta\"]\n",
    "Y, R = movies_mat[\"Y\"], movies_mat[\"R\"]\n",
    "\n",
    "X.shape, Theta.shape, Y.shape, R.shape"
   ]
  },
  {
   "cell_type": "markdown",
   "metadata": {},
   "source": [
    "# Serialize and de-serialize"
   ]
  },
  {
   "cell_type": "code",
   "execution_count": 3,
   "metadata": {},
   "outputs": [],
   "source": [
    "def serialize(X, Theta):\n",
    "    return np.concatenate((X.ravel(), Theta.ravel()))\n",
    "\n",
    "def deserialize(param_seq, n_mov, n_fea, n_usr):\n",
    "    X = param_seq[:n_mov * n_fea].reshape(n_mov, n_fea)\n",
    "    Theta = param_seq[n_mov * n_fea:].reshape(n_usr, n_fea)\n",
    "    return X, Theta"
   ]
  },
  {
   "cell_type": "markdown",
   "metadata": {},
   "source": [
    "# Gradient descent\n",
    "## Cost function\n",
    "\n",
    "To perform collaborative filtering, we combine the $J(\\Theta)$ and $J(X)$ cost funtions into one:\n",
    "$$\n",
    "\\begin{aligned}\n",
    "&J\\left(x^{(1)}, \\ldots, x^{\\left(n_{m}\\right)}, \\theta^{(1)}, \\ldots, \\theta^{\\left(n_{u}\\right)}\\right)\n",
    "=\\frac{1}{2} \\sum_{(i, j): r(i, j)=1}\\left(\\left(\\theta^{(j)}\\right)^{T} x^{(i)}-y^{(i, j)}\\right)^{2}+\\frac{\\lambda}{2} \\sum_{i=1}^{n_{m}} \\sum_{k=1}^{n}\\left(x_{k}^{(i)}\\right)^{2}+\\frac{\\lambda}{2} \\sum_{j=1}^{n_{u}} \\sum_{k=1}^{n}\\left(\\theta_{k}^{(j)}\\right)^{2}\n",
    "\\end{aligned}\n",
    "$$\n",
    "\n",
    "## Gradient of cost funtion:\n",
    "We can synchronously update $X$ and $\\Theta$:\n",
    "$$\n",
    "Repeat \\{ \\\\\n",
    "\\begin{array}{c}\n",
    "x_{k}^{(i)}:=x_{k}^{(i)}-\\alpha\\left(\\sum_{j: r(i, j)=1}\\left(\\left((\\theta^{(j)}\\right)^{T} x^{(i)}-y^{(i, j)}) \\theta_{k}^{j}+\\lambda x_{k}^{(i)}\\right)\\right. \\\\\n",
    "\\theta_{k}^{(i)}:=\\theta_{k}^{(i)}-\\alpha\\left(\\sum_{i: r(i, j)=1}\\left(\\left((\\theta^{(i)}\\right)^{T} x^{(i)}-y^{(i, j)}) x_{k}^{(i)}+\\lambda \\theta_{k}^{(j)}\\right)\\right.\n",
    "\\end{array} \\\\\n",
    "\\}\n",
    "$$"
   ]
  },
  {
   "cell_type": "code",
   "execution_count": 4,
   "metadata": {},
   "outputs": [],
   "source": [
    "def cost(param_seq, Y, R, n_fea, learning_rate=1):\n",
    "    n_mov, n_usr = Y.shape\n",
    "    \n",
    "    X, Theta = deserialize(param_seq, n_mov, n_fea, n_usr)\n",
    "    \n",
    "    # Dot multplication with R:\n",
    "    # 1 -> has rate -> keep value\n",
    "    # 0 -> no rate -> val * 0 = 0\n",
    "    \n",
    "    inner = np.multiply((X @ Theta.T - Y), R)\n",
    "    cost_term = 0.5 * np.power(inner, 2).sum()\n",
    "    \n",
    "    reg_term = 0.5 * learning_rate * np.power(param_seq, 2).sum()\n",
    "    \n",
    "    return cost_term + reg_term\n",
    "\n",
    "def gradient(param_seq, Y, R, n_fea, learning_rate=1):\n",
    "    n_mov, n_usr = Y.shape\n",
    "    \n",
    "    X, Theta = deserialize(param_seq, n_mov, n_fea, n_usr)\n",
    "    \n",
    "    inner = np.multiply((X @ Theta.T - Y), R)\n",
    "    \n",
    "    X_grad = inner @ Theta\n",
    "    Theta_grad = inner.T @ X\n",
    "    \n",
    "    # Element-wise addition: each grad plus the corresponding regularize term gradient\n",
    "    return serialize(X_grad, Theta_grad) + learning_rate * param_seq"
   ]
  },
  {
   "cell_type": "markdown",
   "metadata": {},
   "source": [
    "# Add a new user\n",
    "We can add a new user with some rating on some movies. Insert the new user to column 0."
   ]
  },
  {
   "cell_type": "code",
   "execution_count": 5,
   "metadata": {},
   "outputs": [
    {
     "data": {
      "text/plain": [
       "((1682,), (1682,))"
      ]
     },
     "execution_count": 5,
     "metadata": {},
     "output_type": "execute_result"
    }
   ],
   "source": [
    "# Y matrix column\n",
    "usr_rating = np.zeros(Y.shape[0])\n",
    "\n",
    "# rate some movies (0 - 5), not have to rate all movies as we can use model to predict\n",
    "usr_rating[0] = 4\n",
    "usr_rating[6] = 3\n",
    "usr_rating[11] = 5\n",
    "usr_rating[53] = 4\n",
    "usr_rating[63] = 5\n",
    "usr_rating[65] = 3\n",
    "usr_rating[68] = 5\n",
    "usr_rating[97] = 2\n",
    "usr_rating[182] = 4\n",
    "usr_rating[225] = 5\n",
    "usr_rating[354] = 5\n",
    "\n",
    "# R matrix column\n",
    "usr_r = (usr_rating != 0).astype(int)\n",
    "\n",
    "usr_rating.shape, usr_r.shape"
   ]
  },
  {
   "cell_type": "code",
   "execution_count": 6,
   "metadata": {},
   "outputs": [
    {
     "data": {
      "text/plain": [
       "((1682, 944), (1682, 944))"
      ]
     },
     "execution_count": 6,
     "metadata": {},
     "output_type": "execute_result"
    }
   ],
   "source": [
    "Y = np.insert(Y, 0, usr_rating, axis=1)\n",
    "R = np.insert(R, 0, usr_r, axis=1)\n",
    "\n",
    "Y.shape, R.shape"
   ]
  },
  {
   "cell_type": "markdown",
   "metadata": {},
   "source": [
    "# Random initialize $X$ and $\\Theta$"
   ]
  },
  {
   "cell_type": "code",
   "execution_count": 7,
   "metadata": {},
   "outputs": [],
   "source": [
    "eps = 0.12\n",
    "param_seq = np.random.uniform(-eps, eps, X.shape[0] * X.shape[1] + Y.shape[1] * Theta.shape[1])"
   ]
  },
  {
   "cell_type": "markdown",
   "metadata": {},
   "source": [
    "# Mean normalization $Y$\n",
    "If a user has not rated any movie, then we assign it with mean of the rating."
   ]
  },
  {
   "cell_type": "code",
   "execution_count": 8,
   "metadata": {},
   "outputs": [
    {
     "data": {
      "text/plain": [
       "((1682, 944), (1682, 1))"
      ]
     },
     "execution_count": 8,
     "metadata": {},
     "output_type": "execute_result"
    }
   ],
   "source": [
    "mu = Y.mean(axis=1).reshape(-1,1)\n",
    "Y_norm = Y - mu\n",
    "Y_norm.shape, mu.shape"
   ]
  },
  {
   "cell_type": "markdown",
   "metadata": {},
   "source": [
    "# Training model"
   ]
  },
  {
   "cell_type": "code",
   "execution_count": 9,
   "metadata": {},
   "outputs": [],
   "source": [
    "import scipy.optimize as opt\n",
    "\n",
    "res = opt.minimize(fun = cost, \n",
    "                   x0=param_seq, \n",
    "                   args=(Y_norm, R, X.shape[1], 1),\n",
    "                   method=\"TNC\",\n",
    "                   jac=gradient)"
   ]
  },
  {
   "cell_type": "code",
   "execution_count": 10,
   "metadata": {},
   "outputs": [
    {
     "data": {
      "text/plain": [
       "((1682, 10), (944, 10))"
      ]
     },
     "execution_count": 10,
     "metadata": {},
     "output_type": "execute_result"
    }
   ],
   "source": [
    "X_trained, Theta_trained = deserialize(res.x, X.shape[0], X.shape[1], Y.shape[1])\n",
    "X_trained.shape, Theta_trained.shape"
   ]
  },
  {
   "cell_type": "code",
   "execution_count": 11,
   "metadata": {},
   "outputs": [
    {
     "data": {
      "text/plain": [
       "29535.414108825575"
      ]
     },
     "execution_count": 11,
     "metadata": {},
     "output_type": "execute_result"
    }
   ],
   "source": [
    "cost(res.x, Y_norm, R, X.shape[1], 1)"
   ]
  },
  {
   "cell_type": "code",
   "execution_count": 25,
   "metadata": {},
   "outputs": [
    {
     "data": {
      "text/plain": [
       "array([  49,  180,  171, ...,  905,  990, 1535], dtype=int64)"
      ]
     },
     "execution_count": 25,
     "metadata": {},
     "output_type": "execute_result"
    }
   ],
   "source": [
    "Y_pred = X_trained @ Theta_trained.T # predict Y for all user\n",
    "new_usr_pred = Y_pred[:, 0] + mu.reshape(-1,)\n",
    "rate_index = np.argsort(new_usr_pred)[::-1]\n",
    "rate_index"
   ]
  },
  {
   "cell_type": "code",
   "execution_count": 26,
   "metadata": {},
   "outputs": [
    {
     "data": {
      "text/plain": [
       "array([5.67914263, 5.62692338, 5.26100146, 5.17544055, 5.03088895,\n",
       "       4.967269  , 4.78738471, 4.72128774, 4.71823973, 4.67467707])"
      ]
     },
     "execution_count": 26,
     "metadata": {},
     "output_type": "execute_result"
    }
   ],
   "source": [
    "new_usr_pred[rate_index][:10]"
   ]
  },
  {
   "cell_type": "code",
   "execution_count": 27,
   "metadata": {},
   "outputs": [],
   "source": [
    "movie_list = []\n",
    "\n",
    "with open('./movie_ids.txt', encoding='latin-1') as f:\n",
    "    for line in f:\n",
    "        tokens = line.strip().split(' ')\n",
    "        movie_list.append(' '.join(tokens[1:]))\n",
    "\n",
    "movie_list = np.array(movie_list)"
   ]
  },
  {
   "cell_type": "code",
   "execution_count": 28,
   "metadata": {},
   "outputs": [
    {
     "name": "stdout",
     "output_type": "stream",
     "text": [
      "Star Wars (1977)\n",
      "Return of the Jedi (1983)\n",
      "Empire Strikes Back, The (1980)\n",
      "Raiders of the Lost Ark (1981)\n",
      "Independence Day (ID4) (1996)\n",
      "Renaissance Man (1994)\n",
      "Titanic (1997)\n",
      "G.I. Jane (1997)\n",
      "With Honors (1994)\n",
      "Don't Be a Menace to South Central While Drinking Your Juice in the Hood (1996)\n"
     ]
    }
   ],
   "source": [
    "for m in movie_list[rate_index][:10]:\n",
    "    print(m)"
   ]
  }
 ],
 "metadata": {
  "kernelspec": {
   "display_name": "Python [conda env:root] *",
   "language": "python",
   "name": "conda-root-py"
  },
  "language_info": {
   "codemirror_mode": {
    "name": "ipython",
    "version": 3
   },
   "file_extension": ".py",
   "mimetype": "text/x-python",
   "name": "python",
   "nbconvert_exporter": "python",
   "pygments_lexer": "ipython3",
   "version": "3.7.3"
  }
 },
 "nbformat": 4,
 "nbformat_minor": 2
}
