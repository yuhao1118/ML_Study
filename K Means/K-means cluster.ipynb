{
 "cells": [
  {
   "cell_type": "markdown",
   "metadata": {},
   "source": [
    "# K-means cluster"
   ]
  },
  {
   "cell_type": "code",
   "execution_count": 117,
   "metadata": {},
   "outputs": [],
   "source": [
    "import numpy as np\n",
    "import pandas as pd\n",
    "import matplotlib.pyplot as plt\n",
    "import scipy.io as sio"
   ]
  },
  {
   "cell_type": "code",
   "execution_count": 118,
   "metadata": {},
   "outputs": [
    {
     "data": {
      "text/plain": [
       "(300, 2)"
      ]
     },
     "execution_count": 118,
     "metadata": {},
     "output_type": "execute_result"
    }
   ],
   "source": [
    "data = sio.loadmat(\"./ex7data2.mat\")\n",
    "X = data[\"X\"]\n",
    "X.shape"
   ]
  },
  {
   "cell_type": "code",
   "execution_count": 119,
   "metadata": {},
   "outputs": [
    {
     "data": {
      "text/plain": [
       "<matplotlib.collections.PathCollection at 0x2c5e71d0080>"
      ]
     },
     "execution_count": 119,
     "metadata": {},
     "output_type": "execute_result"
    },
    {
     "data": {
      "image/png": "[encoded data removed]",
      "text/plain": [
       "<Figure size 864x648 with 1 Axes>"
      ]
     },
     "metadata": {
      "needs_background": "light"
     },
     "output_type": "display_data"
    }
   ],
   "source": [
    "plt.subplots(figsize=(12,9))\n",
    "plt.scatter(X[:, 0], X[:, 1])"
   ]
  },
  {
   "cell_type": "markdown",
   "metadata": {},
   "source": [
    "# Random initialise centroids\n",
    "As the figures shows above, the number of clusters is better to be 3."
   ]
  },
  {
   "cell_type": "code",
   "execution_count": 120,
   "metadata": {},
   "outputs": [],
   "source": [
    "def random_centroids(X, K):\n",
    "    random_index = np.random.choice(X.shape[0], K)\n",
    "    init_centroids = X[random_index]\n",
    "    return init_centroids"
   ]
  },
  {
   "cell_type": "code",
   "execution_count": 121,
   "metadata": {},
   "outputs": [
    {
     "data": {
      "text/plain": [
       "array([[5.87655237, 3.21661109],\n",
       "       [3.12635184, 1.2806893 ],\n",
       "       [4.43152976, 0.54041   ]])"
      ]
     },
     "execution_count": 121,
     "metadata": {},
     "output_type": "execute_result"
    }
   ],
   "source": [
    "K = 3\n",
    "init_centroids = random_centroids(X, K)\n",
    "init_centroids"
   ]
  },
  {
   "cell_type": "markdown",
   "metadata": {},
   "source": [
    "# Cluster assignment step\n",
    "$c^{(i)}$ is the index (from 1 to K) of the cluster centroid which is cloest to $x^{(i)}$."
   ]
  },
  {
   "cell_type": "code",
   "execution_count": 122,
   "metadata": {},
   "outputs": [],
   "source": [
    "def find_cloest_centroids(X, centroids):\n",
    "    m = X.shape[0]\n",
    "    K = centroids.shape[0]\n",
    "    \n",
    "    dist_arr = np.zeros(m) + np.inf\n",
    "    c_indices = np.zeros(m)\n",
    "    \n",
    "    for i in range(m):\n",
    "        for j in range(K):\n",
    "            dist = np.power(X[i] - centroids[j], 2).sum()\n",
    "            \n",
    "            if dist < dist_arr[i]:\n",
    "                dist_arr[i] = dist\n",
    "                c_indices[i] = j\n",
    "    \n",
    "    return c_indices"
   ]
  },
  {
   "cell_type": "code",
   "execution_count": 123,
   "metadata": {},
   "outputs": [
    {
     "data": {
      "text/plain": [
       "(array([1., 0., 0.]), (300,))"
      ]
     },
     "execution_count": 123,
     "metadata": {},
     "output_type": "execute_result"
    }
   ],
   "source": [
    "c_indices = find_cloest_centroids(X, init_centroids)\n",
    "c_indices[:3], c_indices.shape"
   ]
  },
  {
   "cell_type": "markdown",
   "metadata": {},
   "source": [
    "# Move centroid step\n",
    "$\\mu_{k}$ is the average of points assigned to cluster $k$."
   ]
  },
  {
   "cell_type": "code",
   "execution_count": 124,
   "metadata": {},
   "outputs": [],
   "source": [
    "def compute_centroids(X, c_indices, K):\n",
    "    m, n = X.shape\n",
    "    centroids = np.zeros((K, n))    \n",
    "    \n",
    "    for i in range(K):\n",
    "        indices = np.where(c_indices == i)[0]\n",
    "        avg_inst = np.sum(X[indices], axis=0) # (1,2) column sum\n",
    "        centroids[i] = avg_inst / indices.shape[0] \n",
    "        \n",
    "    return centroids   "
   ]
  },
  {
   "cell_type": "code",
   "execution_count": 125,
   "metadata": {},
   "outputs": [
    {
     "data": {
      "text/plain": [
       "array([[5.42074913, 3.43904067],\n",
       "       [2.20938864, 2.89062987],\n",
       "       [4.20226557, 0.77702551]])"
      ]
     },
     "execution_count": 125,
     "metadata": {},
     "output_type": "execute_result"
    }
   ],
   "source": [
    "compute_centroids(X, c_indices, K)"
   ]
  },
  {
   "cell_type": "markdown",
   "metadata": {},
   "source": [
    "# Optimize step\n",
    "The cost function of K means algorithm is also known as Distortion function.\n",
    "$$\n",
    "J\\left(c^{(1)}, \\ldots, c^{(m)}, \\mu_{1}, \\ldots, \\mu_{K}\\right)=\\frac{1}{m} \\sum_{i=1}^{m}\\left\\|X^{(i)}-\\mu_{c}(i)\\right\\|^{2}\n",
    "$$"
   ]
  },
  {
   "cell_type": "code",
   "execution_count": 126,
   "metadata": {},
   "outputs": [],
   "source": [
    "def run_k_means(X, init_centroids, max_iters):\n",
    "    centroids = init_centroids\n",
    "    K = init_centroids.shape[0]\n",
    "    \n",
    "    for i in range(max_iters):\n",
    "        c_indices = find_cloest_centroids(X, centroids)\n",
    "        centroids = compute_centroids(X, c_indices, K)\n",
    "        \n",
    "    return c_indices, centroids"
   ]
  },
  {
   "cell_type": "code",
   "execution_count": 127,
   "metadata": {},
   "outputs": [
    {
     "data": {
      "text/plain": [
       "array([[6.03366736, 3.00052511],\n",
       "       [1.95399466, 5.02557006],\n",
       "       [3.04367119, 1.01541041]])"
      ]
     },
     "execution_count": 127,
     "metadata": {},
     "output_type": "execute_result"
    }
   ],
   "source": [
    "c_indices, centroids = run_k_means(X, init_centroids, 1000)\n",
    "centroids[:3]"
   ]
  },
  {
   "cell_type": "code",
   "execution_count": 128,
   "metadata": {},
   "outputs": [
    {
     "data": {
      "image/png": "[encoded data removed]",
      "text/plain": [
       "<Figure size 864x576 with 1 Axes>"
      ]
     },
     "metadata": {
      "needs_background": "light"
     },
     "output_type": "display_data"
    }
   ],
   "source": [
    "plt.subplots(figsize=(12,8))\n",
    "\n",
    "for i in range(K):\n",
    "    cl_i = X[np.where(c_indices == i)[0]]\n",
    "    plt.scatter(cl_i[:, 0], cl_i[:, 1], label=\"cluster {:d}\".format(i))\n",
    "\n",
    "plt.legend()\n",
    "plt.show()"
   ]
  }
 ],
 "metadata": {
  "kernelspec": {
   "display_name": "Python [conda env:root] *",
   "language": "python",
   "name": "conda-root-py"
  },
  "language_info": {
   "codemirror_mode": {
    "name": "ipython",
    "version": 3
   },
   "file_extension": ".py",
   "mimetype": "text/x-python",
   "name": "python",
   "nbconvert_exporter": "python",
   "pygments_lexer": "ipython3",
   "version": "3.7.3"
  }
 },
 "nbformat": 4,
 "nbformat_minor": 2
}
