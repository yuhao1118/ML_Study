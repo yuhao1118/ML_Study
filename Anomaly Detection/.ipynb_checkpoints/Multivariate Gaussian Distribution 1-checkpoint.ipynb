{
 "cells": [
  {
   "cell_type": "markdown",
   "metadata": {},
   "source": [
    "# Multivariate Gaussian Distribution"
   ]
  },
  {
   "cell_type": "code",
   "execution_count": 8,
   "metadata": {},
   "outputs": [],
   "source": [
    "import numpy as np\n",
    "import scipy.io as sio"
   ]
  },
  {
   "cell_type": "markdown",
   "metadata": {},
   "source": [
    "# Import dataset"
   ]
  },
  {
   "cell_type": "code",
   "execution_count": 9,
   "metadata": {},
   "outputs": [
    {
     "data": {
      "text/plain": [
       "((307, 2), (307, 2), (307, 1))"
      ]
     },
     "execution_count": 9,
     "metadata": {},
     "output_type": "execute_result"
    }
   ],
   "source": [
    "data = sio.loadmat(\"./ex8data1\")\n",
    "X = data[\"X\"]\n",
    "CV = data[\"Xval\"]\n",
    "y_CV = data[\"yval\"]\n",
    "X.shape, CV.shape, y_CV.shape"
   ]
  },
  {
   "cell_type": "markdown",
   "metadata": {},
   "source": [
    "# Visualizing data"
   ]
  },
  {
   "cell_type": "code",
   "execution_count": 10,
   "metadata": {},
   "outputs": [
    {
     "data": {
      "text/plain": [
       "Text(0, 0.5, 'Throughput')"
      ]
     },
     "execution_count": 10,
     "metadata": {},
     "output_type": "execute_result"
    },
    {
     "data": {
      "image/png": "[encoded data removed]",
      "text/plain": [
       "<Figure size 720x576 with 1 Axes>"
      ]
     },
     "metadata": {
      "needs_background": "light"
     },
     "output_type": "display_data"
    }
   ],
   "source": [
    "import matplotlib.pyplot as plt\n",
    "plt.figure(figsize=(10,8))\n",
    "plt.scatter(X[:, 0], X[:, 1])\n",
    "plt.xlabel(\"Latency\")\n",
    "plt.ylabel(\"Throughput\")"
   ]
  },
  {
   "cell_type": "markdown",
   "metadata": {},
   "source": [
    "# Calculating $\\mu$ and covariance matrix\n",
    "- X: (n,m) where n is column vector of features.\n",
    "$$\n",
    "\\mu=\\frac{1}{m} \\sum_{i=1}^{m} x^{(i)} \\in \\mathbb{R}^{n}\n",
    "$$\n",
    "$$\n",
    "\\sigma\\left(x_{j}, x_{k}\\right) =\\frac{1}{m} \\sum_{i=1}^{m}\\left(x_{j}^{(i)}-\\mu_{j}\\right)\\left(x_{k}^{(i)}-\\mu_{k}\\right) \\\\\n",
    "$$\n",
    "Assume we have already perform mean normalization for $X$:\n",
    "$$\n",
    "\\begin{aligned}\n",
    "\\Sigma &= \\frac{1}{m} \\sum_{i=1}^{m}\\left(x^{(i)} -\\mu \\right)\\left(x^{(i)} - \\mu\\right)^{T} \\\\\n",
    "&= \\frac{1}{m} \\sum_{i=1}^{m}\\left(x^{(i)}\\right)\\left(x^{(i)}\\right)^{T} \\\\\n",
    "&= \\frac{1}{m}XX^{T} \\in \\mathbb{R}^{n \\times n}\n",
    "\\end{aligned} \n",
    "$$"
   ]
  },
  {
   "cell_type": "code",
   "execution_count": 11,
   "metadata": {},
   "outputs": [
    {
     "data": {
      "text/plain": [
       "(array([14.11222578, 14.99771051]), array([[ 1.83862041, -0.22786456],\n",
       "        [-0.22786456,  1.71533273]]))"
      ]
     },
     "execution_count": 11,
     "metadata": {},
     "output_type": "execute_result"
    }
   ],
   "source": [
    "mu = X.mean(axis=0)\n",
    "cov = np.cov(X.T) # originally X is (m,n)\n",
    "\n",
    "# same variance\n",
    "# X_nor = X - mu\n",
    "# var = np.power(X_nor, 2).mean(axis=0)\n",
    "\n",
    "mu, cov"
   ]
  },
  {
   "cell_type": "markdown",
   "metadata": {},
   "source": [
    "# Calculating possiblites\n",
    "Orignally, the normal distribution is defined as follow:\n",
    "$$\n",
    "p(x)=\\prod_{j=1}^{n} p\\left(x_{j} ; \\mu, \\sigma_{j}^{2}\\right)=\\prod_{j=1}^{n} \\frac{1}{\\sqrt{2 \\pi} \\sigma_{j}} \\exp \\left(-\\frac{\\left(x_{j}-\\mu_{j}\\right)^{2}}{2 \\sigma_{j}^{2}}\\right)\n",
    "$$\n",
    "For the multivariate normal distribution, the inverse of $\\Sigma$ is actually the $\\sigma^2$ term in the denominator. We always assume the feature vector is a column vector $\\in \\mathbb{R}^{n}$ i.e $X$ is (n,m).\n",
    "$$\n",
    "p(x^{(i)})=\\frac{1}{(2 \\pi)^{\\frac{n}{2}}|\\Sigma|^{\\frac{1}{2}}} \\exp \\left(-\\frac{1}{2}(x^{(i)}-\\mu)^{T} \\Sigma^{-1}(x^{(i)}-\\mu)\\right)\n",
    "$$\n",
    "$$\n",
    "diagonal(p(X))  \\in \\mathbb{R}^{m}\n",
    "$$"
   ]
  },
  {
   "cell_type": "code",
   "execution_count": 12,
   "metadata": {},
   "outputs": [],
   "source": [
    "def multi_norm(X, mu, cov):\n",
    "    m,n = X.shape\n",
    "    det = np.linalg.det(cov) \n",
    "    inv = np.linalg.inv(cov)\n",
    "\n",
    "    ce = (1 / (np.power((2 * np.pi), n/2) * np.power(det, 0.5)))\n",
    "    p = ce * np.exp(-0.5 * ((X-mu) @ inv @ (X-mu).T))\n",
    "    return p.diagonal()\n",
    "\n",
    "# This function performs exeactly same as follow: \n",
    "# from scipy import stats\n",
    "# mgd = stats.multivariate_normal(mu, cov)\n",
    "# p = mgd.pdf(X).reshape(p.shape[0],1)\n",
    "# p_cv = mgd.pdf(CV).reshape(p_cv.shape[0],1)"
   ]
  },
  {
   "cell_type": "code",
   "execution_count": 13,
   "metadata": {},
   "outputs": [],
   "source": [
    "p = np.zeros(X.shape)\n",
    "p_cv = np.zeros(CV.shape)\n",
    "p = multi_norm(X, mu, cov).reshape(p.shape[0],1)\n",
    "p_cv = multi_norm(CV, mu, cov).reshape(p_cv.shape[0],1)"
   ]
  },
  {
   "cell_type": "markdown",
   "metadata": {},
   "source": [
    "# Learning threshold $\\epsilon$ from CV\n",
    "Recall the definitions of precisoin and recall:\n",
    "$$\n",
    "\\begin{aligned}\n",
    "p r e c &=\\frac{t p}{t p+f p} \\\\\n",
    "r e c &=\\frac{t p}{t p+f n}\n",
    "\\end{aligned}\n",
    "$$\n",
    "And $F_1$ score is harmonic mean that is computed using precision and recall:\n",
    "$$\n",
    "F_{1}=\\frac{2 \\cdot p r e c \\cdot r e c}{p r e c +r e c}\n",
    "$$\n",
    "We want a threshold $epsilon$ that makes $F_1$ as large as possible so as to optimize both precison and recall."
   ]
  },
  {
   "cell_type": "code",
   "execution_count": 14,
   "metadata": {},
   "outputs": [],
   "source": [
    "def select_thres(p_cv, y_CV, max_iters=1000):\n",
    "    best_e = 0\n",
    "    best_f1 = 0\n",
    "    \n",
    "    step = (p_cv.max() - p_cv.min()) / max_iters\n",
    "    \n",
    "    for e in np.arange(p_cv.min(), p_cv.max(), step):\n",
    "        preds = p_cv < e # (m,n) boolean matrix\n",
    "        \n",
    "        tp = np.sum(np.logical_and(preds == True, y_CV == 1)).astype(float)\n",
    "        fp = np.sum(np.logical_and(preds == True, y_CV == 0)).astype(float)\n",
    "        fn = np.sum(np.logical_and(preds == False, y_CV == 1)).astype(float)\n",
    "        \n",
    "        prec = tp / (tp + fp) if tp + fp > 0 else 0\n",
    "        rec = tp / (tp + fn) if tp + fn > 0 else 0\n",
    "        f_1 = 2 * prec * rec / (prec + rec) if prec + rec > 0 else 0\n",
    "        \n",
    "        if f_1 > best_f1:\n",
    "            best_f1 = f_1\n",
    "            best_e = e\n",
    "            \n",
    "    return best_e, best_f1"
   ]
  },
  {
   "cell_type": "code",
   "execution_count": 15,
   "metadata": {},
   "outputs": [
    {
     "data": {
      "text/plain": [
       "(9.036240676156382e-05, 0.8750000000000001)"
      ]
     },
     "execution_count": 15,
     "metadata": {},
     "output_type": "execute_result"
    }
   ],
   "source": [
    "e, f_1 = select_thres(p_cv, y_CV)\n",
    "e, f_1"
   ]
  },
  {
   "cell_type": "code",
   "execution_count": 17,
   "metadata": {},
   "outputs": [
    {
     "data": {
      "image/png": "[encoded data removed]",
      "text/plain": [
       "<Figure size 720x576 with 1 Axes>"
      ]
     },
     "metadata": {
      "needs_background": "light"
     },
     "output_type": "display_data"
    }
   ],
   "source": [
    "X_outliers = np.where(p < e) # indexs of the outliers\n",
    "\n",
    "plt.figure(figsize=(10,8))\n",
    "plt.scatter(X[:, 0], X[:, 1])\n",
    "plt.scatter(X[X_outliers[0], 0], X[X_outliers[0], 1])\n",
    "plt.xlabel(\"Latency\")\n",
    "plt.ylabel(\"Throughput\")\n",
    "plt.show()"
   ]
  }
 ],
 "metadata": {
  "kernelspec": {
   "display_name": "Python [conda env:root] *",
   "language": "python",
   "name": "conda-root-py"
  },
  "language_info": {
   "codemirror_mode": {
    "name": "ipython",
    "version": 3
   },
   "file_extension": ".py",
   "mimetype": "text/x-python",
   "name": "python",
   "nbconvert_exporter": "python",
   "pygments_lexer": "ipython3",
   "version": "3.7.3"
  }
 },
 "nbformat": 4,
 "nbformat_minor": 2
}
